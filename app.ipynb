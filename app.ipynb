{
 "cells": [
  {
   "cell_type": "markdown",
   "metadata": {},
   "source": [
    "# Map to analyse Global Land Cover!"
   ]
  },
  {
   "cell_type": "code",
   "execution_count": 1,
   "metadata": {},
   "outputs": [],
   "source": [
    "import os\n",
    "import json\n",
    "\n",
    "import ee\n",
    "import folium\n",
    "import plotly.offline as pyo\n",
    "from shapely.geometry import Polygon, box\n",
    "\n",
    "from streamlit_map.geocoder import Geocoder\n",
    "from streamlit_map.geodescriber import GeoDescriber\n",
    "from streamlit_map.visualize import foliumMapGEE, ipyleafletMapGEE, create_stacked_bar\n",
    "from streamlit_map.processing import ZonalStatistics\n",
    "from streamlit_map.data import GEEData"
   ]
  },
  {
   "cell_type": "code",
   "execution_count": 2,
   "metadata": {},
   "outputs": [],
   "source": [
    "def _get_bbox(geojson: dict) -> box:\n",
    "    # Create a Shapely polygon from the coordinates\n",
    "    poly = Polygon(geojson['geometry']['coordinates'][0])\n",
    "    # Get the bbox coordinates using the bounds() method\n",
    "    min_x, min_y, max_x, max_y = poly.bounds\n",
    "    # Create the box object using the box() function\n",
    "    shapely_box = box(min_x, min_y, max_x, max_y)\n",
    "\n",
    "    return shapely_box"
   ]
  },
  {
   "cell_type": "code",
   "execution_count": 3,
   "metadata": {},
   "outputs": [],
   "source": [
    "private_key = json.loads(os.getenv(\"EE_PRIVATE_KEY\"))\n",
    "ee_credentials  = ee.ServiceAccountCredentials(email=private_key['client_email'], key_data=os.getenv(\"EE_PRIVATE_KEY\"))"
   ]
  },
  {
   "cell_type": "code",
   "execution_count": 4,
   "metadata": {},
   "outputs": [],
   "source": [
    "ee.Initialize(credentials=ee_credentials)"
   ]
  },
  {
   "cell_type": "code",
   "execution_count": 5,
   "metadata": {},
   "outputs": [],
   "source": [
    "MAX_ALLOWED_AREA_SIZE = 25.0"
   ]
  },
  {
   "cell_type": "code",
   "execution_count": 6,
   "metadata": {},
   "outputs": [],
   "source": [
    "datasets = {}\n",
    "for dataset in ['Global-Land-Cover', 'Koppen-Geiger-Climate']:\n",
    "    datasets[dataset] = GEEData(dataset)\n",
    "    \n",
    "gee_data = datasets['Global-Land-Cover']"
   ]
  },
  {
   "cell_type": "code",
   "execution_count": 7,
   "metadata": {},
   "outputs": [
    {
     "data": {
      "text/html": [
       "<div style=\"width:100%;\"><div style=\"position:relative;width:100%;height:0;padding-bottom:60%;\"><span style=\"color:#565656\">Make this Notebook Trusted to load map: File -> Trust Notebook</span><iframe srcdoc=\"&lt;!DOCTYPE html&gt;\n",
       "&lt;html&gt;\n",
       "&lt;head&gt;\n",
       "    \n",
       "    &lt;meta http-equiv=&quot;content-type&quot; content=&quot;text/html; charset=UTF-8&quot; /&gt;\n",
       "    \n",
       "        &lt;script&gt;\n",
       "            L_NO_TOUCH = false;\n",
       "            L_DISABLE_3D = false;\n",
       "        &lt;/script&gt;\n",
       "    \n",
       "    &lt;style&gt;html, body {width: 100%;height: 100%;margin: 0;padding: 0;}&lt;/style&gt;\n",
       "    &lt;style&gt;#map {position:absolute;top:0;bottom:0;right:0;left:0;}&lt;/style&gt;\n",
       "    &lt;script src=&quot;https://cdn.jsdelivr.net/npm/leaflet@1.9.3/dist/leaflet.js&quot;&gt;&lt;/script&gt;\n",
       "    &lt;script src=&quot;https://code.jquery.com/jquery-1.12.4.min.js&quot;&gt;&lt;/script&gt;\n",
       "    &lt;script src=&quot;https://cdn.jsdelivr.net/npm/bootstrap@5.2.2/dist/js/bootstrap.bundle.min.js&quot;&gt;&lt;/script&gt;\n",
       "    &lt;script src=&quot;https://cdnjs.cloudflare.com/ajax/libs/Leaflet.awesome-markers/2.0.2/leaflet.awesome-markers.js&quot;&gt;&lt;/script&gt;\n",
       "    &lt;link rel=&quot;stylesheet&quot; href=&quot;https://cdn.jsdelivr.net/npm/leaflet@1.9.3/dist/leaflet.css&quot;/&gt;\n",
       "    &lt;link rel=&quot;stylesheet&quot; href=&quot;https://cdn.jsdelivr.net/npm/bootstrap@5.2.2/dist/css/bootstrap.min.css&quot;/&gt;\n",
       "    &lt;link rel=&quot;stylesheet&quot; href=&quot;https://netdna.bootstrapcdn.com/bootstrap/3.0.0/css/bootstrap.min.css&quot;/&gt;\n",
       "    &lt;link rel=&quot;stylesheet&quot; href=&quot;https://cdn.jsdelivr.net/npm/@fortawesome/fontawesome-free@6.2.0/css/all.min.css&quot;/&gt;\n",
       "    &lt;link rel=&quot;stylesheet&quot; href=&quot;https://cdnjs.cloudflare.com/ajax/libs/Leaflet.awesome-markers/2.0.2/leaflet.awesome-markers.css&quot;/&gt;\n",
       "    &lt;link rel=&quot;stylesheet&quot; href=&quot;https://cdn.jsdelivr.net/gh/python-visualization/folium/folium/templates/leaflet.awesome.rotate.min.css&quot;/&gt;\n",
       "    \n",
       "            &lt;meta name=&quot;viewport&quot; content=&quot;width=device-width,\n",
       "                initial-scale=1.0, maximum-scale=1.0, user-scalable=no&quot; /&gt;\n",
       "            &lt;style&gt;\n",
       "                #map_5c764666e06f58dd600c2ae4d28e697a {\n",
       "                    position: relative;\n",
       "                    width: 100.0%;\n",
       "                    height: 100.0%;\n",
       "                    left: 0.0%;\n",
       "                    top: 0.0%;\n",
       "                }\n",
       "                .leaflet-container { font-size: 1rem; }\n",
       "            &lt;/style&gt;\n",
       "        \n",
       "    &lt;script src=&quot;https://cdnjs.cloudflare.com/ajax/libs/leaflet.draw/1.0.2/leaflet.draw.js&quot;&gt;&lt;/script&gt;\n",
       "    &lt;link rel=&quot;stylesheet&quot; href=&quot;https://cdnjs.cloudflare.com/ajax/libs/leaflet.draw/1.0.2/leaflet.draw.css&quot;/&gt;\n",
       "&lt;/head&gt;\n",
       "&lt;body&gt;\n",
       "    \n",
       "    \n",
       "            &lt;div class=&quot;folium-map&quot; id=&quot;map_5c764666e06f58dd600c2ae4d28e697a&quot; &gt;&lt;/div&gt;\n",
       "        \n",
       "&lt;/body&gt;\n",
       "&lt;script&gt;\n",
       "    \n",
       "    \n",
       "            var map_5c764666e06f58dd600c2ae4d28e697a = L.map(\n",
       "                &quot;map_5c764666e06f58dd600c2ae4d28e697a&quot;,\n",
       "                {\n",
       "                    center: [25.0, 55.0],\n",
       "                    crs: L.CRS.EPSG3857,\n",
       "                    zoom: 3,\n",
       "                    zoomControl: true,\n",
       "                    preferCanvas: false,\n",
       "                }\n",
       "            );\n",
       "            L.control.scale().addTo(map_5c764666e06f58dd600c2ae4d28e697a);\n",
       "\n",
       "            \n",
       "\n",
       "        \n",
       "    \n",
       "            var tile_layer_92572a6805ad75631211f2fd099513f0 = L.tileLayer(\n",
       "                &quot;https://{s}.tile.openstreetmap.org/{z}/{x}/{y}.png&quot;,\n",
       "                {&quot;attribution&quot;: &quot;Data by \\u0026copy; \\u003ca target=\\&quot;_blank\\&quot; href=\\&quot;http://openstreetmap.org\\&quot;\\u003eOpenStreetMap\\u003c/a\\u003e, under \\u003ca target=\\&quot;_blank\\&quot; href=\\&quot;http://www.openstreetmap.org/copyright\\&quot;\\u003eODbL\\u003c/a\\u003e.&quot;, &quot;detectRetina&quot;: false, &quot;maxNativeZoom&quot;: 18, &quot;maxZoom&quot;: 18, &quot;minZoom&quot;: 0, &quot;noWrap&quot;: false, &quot;opacity&quot;: 1, &quot;subdomains&quot;: &quot;abc&quot;, &quot;tms&quot;: false}\n",
       "            ).addTo(map_5c764666e06f58dd600c2ae4d28e697a);\n",
       "        \n",
       "    \n",
       "            var options = {\n",
       "              position: &quot;topleft&quot;,\n",
       "              draw: {&quot;circle&quot;: false, &quot;circlemarker&quot;: false, &quot;marker&quot;: false, &quot;poly&quot;: false, &quot;polygon&quot;: false, &quot;polyline&quot;: false, &quot;rectangle&quot;: true},\n",
       "              edit: {},\n",
       "            }\n",
       "            // FeatureGroup is to store editable layers.\n",
       "            var drawnItems = new L.featureGroup().addTo(\n",
       "                map_5c764666e06f58dd600c2ae4d28e697a\n",
       "            );\n",
       "            options.edit.featureGroup = drawnItems;\n",
       "            var draw_control_46602db4aff4819a0e8aacaa643df30b = new L.Control.Draw(\n",
       "                options\n",
       "            ).addTo( map_5c764666e06f58dd600c2ae4d28e697a );\n",
       "            map_5c764666e06f58dd600c2ae4d28e697a.on(L.Draw.Event.CREATED, function(e) {\n",
       "                var layer = e.layer,\n",
       "                    type = e.layerType;\n",
       "                var coords = JSON.stringify(layer.toGeoJSON());\n",
       "                layer.on(&#x27;click&#x27;, function() {\n",
       "                    alert(coords);\n",
       "                    console.log(coords);\n",
       "                });\n",
       "                drawnItems.addLayer(layer);\n",
       "             });\n",
       "            map_5c764666e06f58dd600c2ae4d28e697a.on(&#x27;draw:created&#x27;, function(e) {\n",
       "                drawnItems.addLayer(e.layer);\n",
       "            });\n",
       "            \n",
       "        \n",
       "    \n",
       "            var tile_layer_402c30236ecc1ce3411eae7fca62d2a4 = L.tileLayer(\n",
       "                &quot;https://earthengine.googleapis.com/v1alpha/projects/earthengine-legacy/maps/789d161b554a1ae9b7c10dd3ba141b71-6745534b90180347b3db48cbae9197e3/tiles/{z}/{x}/{y}&quot;,\n",
       "                {&quot;attribution&quot;: &quot;Global-Land-Cover&quot;, &quot;detectRetina&quot;: false, &quot;maxNativeZoom&quot;: 18, &quot;maxZoom&quot;: 18, &quot;minZoom&quot;: 0, &quot;noWrap&quot;: false, &quot;opacity&quot;: 1, &quot;subdomains&quot;: &quot;abc&quot;, &quot;tms&quot;: false}\n",
       "            ).addTo(map_5c764666e06f58dd600c2ae4d28e697a);\n",
       "        \n",
       "    \n",
       "            var tile_layer_cb545bd8449c41690e27a3c830f87644 = L.tileLayer(\n",
       "                &quot;https://earthengine.googleapis.com/v1alpha/projects/earthengine-legacy/maps/5e7126b33ccba943bea2b18ab62fb085-46785e06324603ff00e1fdcae9b587f9/tiles/{z}/{x}/{y}&quot;,\n",
       "                {&quot;attribution&quot;: &quot;Koppen-Geiger-Climate&quot;, &quot;detectRetina&quot;: false, &quot;maxNativeZoom&quot;: 18, &quot;maxZoom&quot;: 18, &quot;minZoom&quot;: 0, &quot;noWrap&quot;: false, &quot;opacity&quot;: 1, &quot;subdomains&quot;: &quot;abc&quot;, &quot;tms&quot;: false}\n",
       "            ).addTo(map_5c764666e06f58dd600c2ae4d28e697a);\n",
       "        \n",
       "    \n",
       "            var layer_control_cea7145f7d465ee7268989398f056e31 = {\n",
       "                base_layers : {\n",
       "                    &quot;openstreetmap&quot; : tile_layer_92572a6805ad75631211f2fd099513f0,\n",
       "                },\n",
       "                overlays :  {\n",
       "                    &quot;Global-Land-Cover&quot; : tile_layer_402c30236ecc1ce3411eae7fca62d2a4,\n",
       "                    &quot;Koppen-Geiger-Climate&quot; : tile_layer_cb545bd8449c41690e27a3c830f87644,\n",
       "                },\n",
       "            };\n",
       "            L.control.layers(\n",
       "                layer_control_cea7145f7d465ee7268989398f056e31.base_layers,\n",
       "                layer_control_cea7145f7d465ee7268989398f056e31.overlays,\n",
       "                {&quot;autoZIndex&quot;: true, &quot;collapsed&quot;: true, &quot;position&quot;: &quot;topright&quot;}\n",
       "            ).addTo(map_5c764666e06f58dd600c2ae4d28e697a);\n",
       "        \n",
       "&lt;/script&gt;\n",
       "&lt;/html&gt;\" style=\"position:absolute;width:100%;height:100%;left:0;top:0;border:none !important;\" allowfullscreen webkitallowfullscreen mozallowfullscreen></iframe></div></div>"
      ],
      "text/plain": [
       "<streamlit_map.visualize.foliumMapGEE at 0x7f2f155a4a10>"
      ]
     },
     "execution_count": 7,
     "metadata": {},
     "output_type": "execute_result"
    }
   ],
   "source": [
    "m = foliumMapGEE()\n",
    "\n",
    "for dataset, data in datasets.items():\n",
    "    m.add_gee_layer(\n",
    "        image=data.ee_image(),\n",
    "        sld_interval=data.sld_interval(),\n",
    "        name=dataset\n",
    "    )\n",
    "           \n",
    "m.add_layer_control()\n",
    "\n",
    "m"
   ]
  },
  {
   "cell_type": "code",
   "execution_count": 11,
   "metadata": {
    "scrolled": false
   },
   "outputs": [
    {
     "name": "stdout",
     "output_type": "stream",
     "text": [
      "Draw a rectangle on map to select and area.\n"
     ]
    },
    {
     "data": {
      "application/vnd.jupyter.widget-view+json": {
       "model_id": "cc2c364e8f0d4a598aed2ccbd5eb607a",
       "version_major": 2,
       "version_minor": 0
      },
      "text/plain": [
       "ipyleafletMapGEE(center=[25.0, 55.0], controls=(ZoomControl(options=['position', 'zoom_in_text', 'zoom_in_titl…"
      ]
     },
     "execution_count": 11,
     "metadata": {},
     "output_type": "execute_result"
    }
   ],
   "source": [
    "m = ipyleafletMapGEE()\n",
    "\n",
    "for dataset, data in datasets.items():\n",
    "    m.add_gee_layer(\n",
    "        image=data.ee_image(),\n",
    "        sld_interval=data.sld_interval(),\n",
    "        name=dataset\n",
    "    )\n",
    "m"
   ]
  },
  {
   "cell_type": "code",
   "execution_count": 9,
   "metadata": {
    "scrolled": true
   },
   "outputs": [],
   "source": [
    "geojson = m.geometry['features']\n",
    "top = {}\n",
    "figs = {}\n",
    "for dataset, data in datasets.items():\n",
    "    zs = ZonalStatistics(data, MAX_ALLOWED_AREA_SIZE)\n",
    "\n",
    "    # Call the zs.check_area_and_compute function to get the plotly figure\n",
    "    stats = zs.check_area_and_compute(geojson=geojson)\n",
    "\n",
    "    # sort the items from top to bottom and take the top 8 elements\n",
    "    top_8 = sorted(stats.items(), key=lambda x: x[1], reverse=True)[:8]\n",
    "    top_8 = {k: v for k, v in top_8}\n",
    "\n",
    "    top[dataset] = top_8\n",
    "    \n",
    "    # Plot figure\n",
    "    colors = {data.class_names()[key]: item for key, item in\n",
    "              data.class_colors().items()}\n",
    "\n",
    "    fig = create_stacked_bar(values=stats, colors=colors)\n",
    "    \n",
    "    figs[dataset] = fig"
   ]
  },
  {
   "cell_type": "code",
   "execution_count": 9,
   "metadata": {},
   "outputs": [],
   "source": [
    "# Display the plotly figure object in the notebook\n",
    "# Set notebook mode to work in offline\n",
    "pyo.init_notebook_mode()\n",
    "for dataset, fig in figs.items():\n",
    "    pyo.iplot(fig)"
   ]
  },
  {
   "cell_type": "code",
   "execution_count": 8,
   "metadata": {},
   "outputs": [
    {
     "name": "stdout",
     "output_type": "stream",
     "text": [
      "Region:  Sidama\n",
      "Country:  Ethiopia\n"
     ]
    }
   ],
   "source": [
    "# Geocoder\n",
    "bbox = _get_bbox(geojson=geojson)\n",
    "\n",
    "# create Geocoder object\n",
    "geolocator = Geocoder(user_agent=\"my-app\")\n",
    "\n",
    "# reverse geocode center point of box to get region and country\n",
    "center_point = bbox.centroid\n",
    "region, country = geolocator.reverse_geocode(center_point)\n",
    "\n",
    "print(\"Region: \", region)\n",
    "print(\"Country: \", country)"
   ]
  },
  {
   "cell_type": "code",
   "execution_count": 9,
   "metadata": {},
   "outputs": [],
   "source": [
    "# Geodescribe the region with OpenAI API\n",
    "geo_describer = GeoDescriber(model_name=\"text-davinci-003\")\n",
    "description = geo_describer.generate_description(\n",
    "    land_cover_per=top['Global-Land-Cover'],\n",
    "    climate_per=top['Koppen-Geiger-Climate'],\n",
    "    region_name=region,\n",
    "    country=country\n",
    ")"
   ]
  },
  {
   "cell_type": "code",
   "execution_count": 10,
   "metadata": {
    "scrolled": true
   },
   "outputs": [
    {
     "data": {
      "text/markdown": [
       "\n",
       "## Description of the region: \n",
       "\n",
       "The climate in Sidama is most characterized by temperate oceanic and subtropical highland climates which have mild temperatures, high humidity and moderate rainfall throughout the year. The land cover is mostly characterized by cropland, rainfed with significant tree cover in both deciduous and evergreen varieties. Shrubland is also found in the area. The landscape is mainly agricultural with some natural vegetation and water bodies.\n",
       "\n",
       "The socioeconomic situation in the region is likely quite dependent on the agricultural industry. The population likely depends on subsistence farming and the production of staple crops like cereals, grains and pulses to support the local economy. The region is likely to be impoverished as agricultural yields are heavily impacted by weather patterns, not to mention lack of infrastructure and access to markets for trading produce.\n"
      ],
      "text/plain": [
       "<IPython.core.display.Markdown object>"
      ]
     },
     "metadata": {},
     "output_type": "display_data"
    }
   ],
   "source": [
    "from IPython.display import Markdown, display\n",
    "\n",
    "\n",
    "display(Markdown(f\"\"\"\n",
    "## Description of the region: \n",
    "\n",
    "{description}\n",
    "\"\"\"))"
   ]
  },
  {
   "cell_type": "code",
   "execution_count": null,
   "metadata": {},
   "outputs": [],
   "source": []
  }
 ],
 "metadata": {
  "kernelspec": {
   "display_name": "Python 3 (ipykernel)",
   "language": "python",
   "name": "python3"
  },
  "language_info": {
   "codemirror_mode": {
    "name": "ipython",
    "version": 3
   },
   "file_extension": ".py",
   "mimetype": "text/x-python",
   "name": "python",
   "nbconvert_exporter": "python",
   "pygments_lexer": "ipython3",
   "version": "3.11.0"
  }
 },
 "nbformat": 4,
 "nbformat_minor": 4
}
