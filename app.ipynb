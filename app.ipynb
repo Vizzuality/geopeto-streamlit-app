{
 "cells": [
  {
   "cell_type": "markdown",
   "metadata": {},
   "source": [
    "# Map to analyse Global Land Cover!"
   ]
  },
  {
   "cell_type": "code",
   "execution_count": 1,
   "metadata": {},
   "outputs": [],
   "source": [
    "import ee\n",
    "from shapely.geometry import Polygon, box\n",
    "\n",
    "from streamlit_map.geocoder import Geocoder\n",
    "from streamlit_map.geodescriber import GeoDescriber\n",
    "from streamlit_map.visualize import MapGEE, create_stacked_bar\n",
    "from streamlit_map.processing import ZonalStatistics\n",
    "from streamlit_map.data import GEEData"
   ]
  },
  {
   "cell_type": "code",
   "execution_count": 2,
   "metadata": {},
   "outputs": [],
   "source": [
    "ee.Initialize()"
   ]
  },
  {
   "cell_type": "code",
   "execution_count": 3,
   "metadata": {},
   "outputs": [],
   "source": [
    "MAX_ALLOWED_AREA_SIZE = 25.0"
   ]
  },
  {
   "cell_type": "code",
   "execution_count": 4,
   "metadata": {},
   "outputs": [],
   "source": [
    "datasets = {}\n",
    "for dataset in ['Global-Land-Cover', 'Koppen-Geiger-Climate']:\n",
    "    datasets[dataset] = GEEData(dataset)\n",
    "    \n",
    "gee_data = datasets['Global-Land-Cover']"
   ]
  },
  {
   "cell_type": "code",
   "execution_count": 5,
   "metadata": {
    "scrolled": true
   },
   "outputs": [
    {
     "name": "stdout",
     "output_type": "stream",
     "text": [
      "Draw a rectangle on map to select and area.\n"
     ]
    },
    {
     "data": {
      "application/vnd.jupyter.widget-view+json": {
       "model_id": "ed1a74482cba4d7585957d75c5e4d859",
       "version_major": 2,
       "version_minor": 0
      },
      "text/plain": [
       "MapGEE(center=[25.0, 55.0], controls=(ZoomControl(options=['position', 'zoom_in_text', 'zoom_in_title', 'zoom_…"
      ]
     },
     "metadata": {},
     "output_type": "display_data"
    }
   ],
   "source": [
    "m = MapGEE()\n",
    "\n",
    "m.add_gee_layer(\n",
    "    image=gee_data.ee_image(),\n",
    "    sld_interval=gee_data.sld_interval(),\n",
    "    name=gee_data.dataset\n",
    ")\n",
    "m"
   ]
  },
  {
   "cell_type": "code",
   "execution_count": null,
   "metadata": {},
   "outputs": [],
   "source": []
  }
 ],
 "metadata": {
  "kernelspec": {
   "display_name": "Python 3 (ipykernel)",
   "language": "python",
   "name": "python3"
  },
  "language_info": {
   "codemirror_mode": {
    "name": "ipython",
    "version": 3
   },
   "file_extension": ".py",
   "mimetype": "text/x-python",
   "name": "python",
   "nbconvert_exporter": "python",
   "pygments_lexer": "ipython3",
   "version": "3.10.10"
  }
 },
 "nbformat": 4,
 "nbformat_minor": 4
}
