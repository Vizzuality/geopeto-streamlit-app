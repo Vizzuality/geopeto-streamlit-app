{
 "cells": [
  {
   "cell_type": "markdown",
   "metadata": {},
   "source": [
    "# Experiment with geodescriber base on a LLM\n",
    "\n",
    "## Purpose\n",
    "\n",
    "In this notebook we will prototype a geodescribres base on a large language model (LLM)\n",
    "## Setup\n",
    "### Library import\n",
    "**Setup software libraries**"
   ]
  },
  {
   "cell_type": "code",
   "execution_count": 24,
   "metadata": {},
   "outputs": [],
   "source": [
    "import os\n",
    "import json\n",
    "\n",
    "import ee\n",
    "import folium\n",
    "import overpy\n",
    "import plotly.offline as pyo\n",
    "from shapely.geometry import Polygon, box\n",
    "\n",
    "from streamlit_map.geocoder import Geocoder\n",
    "from streamlit_map.geodescriber import GeoDescriber\n",
    "from streamlit_map.visualize import foliumMapGEE, ipyleafletMapGEE, create_stacked_bar\n",
    "from streamlit_map.processing import ZonalStatistics\n",
    "from streamlit_map.data import GEEData"
   ]
  },
  {
   "cell_type": "markdown",
   "metadata": {},
   "source": [
    "### Utils"
   ]
  },
  {
   "cell_type": "code",
   "execution_count": 25,
   "metadata": {},
   "outputs": [],
   "source": [
    "def _get_bbox(geojson: dict) -> box:\n",
    "    # Create a Shapely polygon from the coordinates\n",
    "    poly = Polygon(geojson['geometry']['coordinates'][0])\n",
    "    # Get the bbox coordinates using the bounds() method\n",
    "    min_x, min_y, max_x, max_y = poly.bounds\n",
    "    # Create the box object using the box() function\n",
    "    shapely_box = box(min_x, min_y, max_x, max_y)\n",
    "\n",
    "    return shapely_box"
   ]
  },
  {
   "cell_type": "markdown",
   "metadata": {},
   "source": [
    "### Initial setup"
   ]
  },
  {
   "cell_type": "markdown",
   "metadata": {},
   "source": [
    "**Initialize Earth Engine**"
   ]
  },
  {
   "cell_type": "code",
   "execution_count": 26,
   "metadata": {},
   "outputs": [],
   "source": [
    "private_key = json.loads(os.getenv(\"EE_PRIVATE_KEY\"))\n",
    "ee_credentials  = ee.ServiceAccountCredentials(email=private_key['client_email'], key_data=os.getenv(\"EE_PRIVATE_KEY\"))"
   ]
  },
  {
   "cell_type": "code",
   "execution_count": 27,
   "metadata": {},
   "outputs": [],
   "source": [
    "ee.Initialize(credentials=ee_credentials)"
   ]
  },
  {
   "cell_type": "markdown",
   "metadata": {},
   "source": [
    "**Variables**"
   ]
  },
  {
   "cell_type": "code",
   "execution_count": 28,
   "metadata": {},
   "outputs": [],
   "source": [
    "MAX_ALLOWED_AREA_SIZE = 25.0"
   ]
  },
  {
   "cell_type": "code",
   "execution_count": 29,
   "metadata": {},
   "outputs": [],
   "source": [
    "datasets = {}\n",
    "for dataset in ['Global-Land-Cover', 'Koppen-Geiger-Climate']:\n",
    "    datasets[dataset] = GEEData(dataset)\n",
    "    \n",
    "gee_data = datasets['Global-Land-Cover']"
   ]
  },
  {
   "cell_type": "markdown",
   "metadata": {},
   "source": [
    "## Run demo\n",
    "### Display data on map"
   ]
  },
  {
   "cell_type": "code",
   "execution_count": 44,
   "metadata": {},
   "outputs": [],
   "source": [
    "geometry = {'type': 'FeatureCollection',\n",
    " 'features': [{'type': 'Feature',\n",
    "   'properties': {},\n",
    "   'geometry': {'type': 'Polygon',\n",
    "    'coordinates': [[[-16.97428464346484,28.595180785691795],\n",
    "  [-16.97428464346484,27.98588368113657],\n",
    "  [-16.10106160818097,27.98588368113657],\n",
    "  [-16.10106160818097,28.595180785691795],\n",
    "  [-16.97428464346484,28.595180785691795]]]}}]}"
   ]
  },
  {
   "cell_type": "code",
   "execution_count": 45,
   "metadata": {
    "scrolled": false
   },
   "outputs": [
    {
     "data": {
      "application/vnd.jupyter.widget-view+json": {
       "model_id": "215c7bca4b5b4e9b8cab73d504fc1443",
       "version_major": 2,
       "version_minor": 0
      },
      "text/plain": [
       "ipyleafletMapGEE(center=[25.0, 55.0], controls=(ZoomControl(options=['position', 'zoom_in_text', 'zoom_in_titl…"
      ]
     },
     "metadata": {},
     "output_type": "display_data"
    }
   ],
   "source": [
    "m = ipyleafletMapGEE(geometry=geometry)\n",
    "\n",
    "for dataset, data in datasets.items():\n",
    "    m.add_gee_layer(\n",
    "        image=data.ee_image(),\n",
    "        sld_interval=data.sld_interval(),\n",
    "        name=dataset\n",
    "    )\n",
    "m"
   ]
  },
  {
   "cell_type": "markdown",
   "metadata": {},
   "source": [
    "### Zonal statistics\n",
    "**Compute zonal statistics on selected region**"
   ]
  },
  {
   "cell_type": "code",
   "execution_count": 46,
   "metadata": {
    "scrolled": true
   },
   "outputs": [
    {
     "name": "stderr",
     "output_type": "stream",
     "text": [
      "2023-05-08 09:16:42.299 📏  area with size: 0.53 was selected, threshold is: 25.0\n",
      "2023-05-08 09:16:43.080 [ZonalStatistics]: stats: {'b1': {'10': 1090, '100': 2817, '11': 198, '110': 110, '120': 683, '130': 5277, '150': 1928, '153': 424, '180': 147, '190': 1071, '20': 18, '200': 3189, '201': 594, '210': 45062.63921568623, '30': 576, '40': 2571, '60': 566, '70': 2629, '90': 5}}\n",
      "2023-05-08 09:16:43.149 📏  area with size: 0.53 was selected, threshold is: 25.0\n"
     ]
    },
    {
     "name": "stdout",
     "output_type": "stream",
     "text": [
      "Stats:  {'Cropland, rainfed': 1.5807264096132745, 'Cropland, rainfed, herbaceous cover': 0.2871411276178242, 'Cropland, irrigated or post-flooding': 0.02610373887434765, 'Mosaic cropland (>50%) / natural vegetation (tree, shrub, herbaceous cover) (<50%)': 0.8353196439791248, 'Mosaic natural vegetation (tree, shrub, herbaceous cover) (>50%) / cropland (<50%)': 3.728484035885989, 'Tree cover, broadleaved, deciduous, closed to open (>15%)': 0.8208175668267095, 'Tree cover, needleleaved, evergreen, closed to open (>15%)': 3.8125960833699986, 'Tree cover, mixed leaf type (broadleaved and needleleaved)': 0.00725103857620768, 'Mosaic tree and shrub (>50%) / herbaceous cover (<50%)': 4.085235133835408, 'Mosaic herbaceous cover (>50%) / tree and shrub (<50%)': 0.159522848676569, 'Shrubland': 0.9904918695099691, 'Grassland': 7.652746113329586, 'Sparse vegetation (tree, shrub, herbaceous cover) (<15%)': 2.7960004749856817, 'Sparse herbaceous cover (<15%)': 0.6148880712624113, 'Shrub or herbaceous cover, flooded, fresh/saline/brackish water': 0.21318053414050583, 'Urban areas': 1.5531724630236852, 'Bare areas ': 4.624712403905259, 'Consolidated bare areas': 0.8614233828534725, 'Water bodies': 65.35018705973398}\n"
     ]
    },
    {
     "name": "stderr",
     "output_type": "stream",
     "text": [
      "2023-05-08 09:16:43.983 [ZonalStatistics]: stats: {'b1': {'12': 173.8, '13': 9, '4': 132.91764705882355, '5': 156.44705882352943, '6': 10.494117647058824}}\n"
     ]
    },
    {
     "name": "stdout",
     "output_type": "stream",
     "text": [
      "Stats:  {'Hot semi-arid climate': 27.538634036952182, 'Cold semi-arid climate': 32.41359138107542, 'Hot desert climate': 2.1742309754789644, 'Warm-summer Mediterranean climate': 36.00887242236631, 'Cold-summer Mediterranean climate': 1.8646711841271388}\n"
     ]
    }
   ],
   "source": [
    "geojson = m.geometry['features'][0]\n",
    "top = {}\n",
    "figs = {}\n",
    "for dataset, data in datasets.items():\n",
    "    zs = ZonalStatistics(data, MAX_ALLOWED_AREA_SIZE)\n",
    "\n",
    "    # Call the zs.check_area_and_compute function to get the plotly figure\n",
    "    stats = zs.check_area_and_compute(geojson=geojson)\n",
    "\n",
    "    # sort the items from top to bottom and take the top 8 elements\n",
    "    top_8 = sorted(stats.items(), key=lambda x: x[1], reverse=True)[:8]\n",
    "    top_8 = {k: v for k, v in top_8}\n",
    "\n",
    "    top[dataset] = top_8\n",
    "    \n",
    "    # Plot figure\n",
    "    colors = {data.class_names()[key]: item for key, item in\n",
    "              data.class_colors().items()}\n",
    "\n",
    "    fig = create_stacked_bar(values=stats, colors=colors)\n",
    "    \n",
    "    figs[dataset] = fig"
   ]
  },
  {
   "cell_type": "markdown",
   "metadata": {},
   "source": [
    "**Display statistics on a figure**"
   ]
  },
  {
   "cell_type": "code",
   "execution_count": 13,
   "metadata": {},
   "outputs": [
    {
     "data": {
      "application/vnd.plotly.v1+json": {
       "config": {
        "linkText": "Export to plot.ly",
        "plotlyServerURL": "https://plot.ly",
        "showLink": false
       },
       "data": [
        {
         "alignmentgroup": "True",
         "customdata": [
          [
           "Hot semi-arid climate"
          ]
         ],
         "hovertemplate": "label=%{customdata[0]}<br>value=%{x:,.2f}<extra></extra>",
         "legendgroup": "Hot semi-arid climate",
         "marker": {
          "color": "#CC8D14",
          "pattern": {
           "shape": ""
          }
         },
         "name": "Hot semi-arid climate",
         "offsetgroup": "Hot semi-arid climate",
         "orientation": "h",
         "showlegend": true,
         "textposition": "auto",
         "type": "bar",
         "x": [
          27.538634036952182
         ],
         "xaxis": "x",
         "y": [
          " "
         ],
         "yaxis": "y"
        },
        {
         "alignmentgroup": "True",
         "customdata": [
          [
           "Cold semi-arid climate"
          ]
         ],
         "hovertemplate": "label=%{customdata[0]}<br>value=%{x:,.2f}<extra></extra>",
         "legendgroup": "Cold semi-arid climate",
         "marker": {
          "color": "#CCAA54",
          "pattern": {
           "shape": ""
          }
         },
         "name": "Cold semi-arid climate",
         "offsetgroup": "Cold semi-arid climate",
         "orientation": "h",
         "showlegend": true,
         "textposition": "auto",
         "type": "bar",
         "x": [
          32.41359138107542
         ],
         "xaxis": "x",
         "y": [
          " "
         ],
         "yaxis": "y"
        },
        {
         "alignmentgroup": "True",
         "customdata": [
          [
           "Hot desert climate"
          ]
         ],
         "hovertemplate": "label=%{customdata[0]}<br>value=%{x:,.2f}<extra></extra>",
         "legendgroup": "Hot desert climate",
         "marker": {
          "color": "#FFCC00",
          "pattern": {
           "shape": ""
          }
         },
         "name": "Hot desert climate",
         "offsetgroup": "Hot desert climate",
         "orientation": "h",
         "showlegend": true,
         "textposition": "auto",
         "type": "bar",
         "x": [
          2.1742309754789644
         ],
         "xaxis": "x",
         "y": [
          " "
         ],
         "yaxis": "y"
        },
        {
         "alignmentgroup": "True",
         "customdata": [
          [
           "Warm-summer Mediterranean climate"
          ]
         ],
         "hovertemplate": "label=%{customdata[0]}<br>value=%{x:,.2f}<extra></extra>",
         "legendgroup": "Warm-summer Mediterranean climate",
         "marker": {
          "color": "#00D700",
          "pattern": {
           "shape": ""
          }
         },
         "name": "Warm-summer Mediterranean climate",
         "offsetgroup": "Warm-summer Mediterranean climate",
         "orientation": "h",
         "showlegend": true,
         "textposition": "auto",
         "type": "bar",
         "x": [
          36.00887242236631
         ],
         "xaxis": "x",
         "y": [
          " "
         ],
         "yaxis": "y"
        },
        {
         "alignmentgroup": "True",
         "customdata": [
          [
           "Cold-summer Mediterranean climate"
          ]
         ],
         "hovertemplate": "label=%{customdata[0]}<br>value=%{x:,.2f}<extra></extra>",
         "legendgroup": "Cold-summer Mediterranean climate",
         "marker": {
          "color": "#00AA00",
          "pattern": {
           "shape": ""
          }
         },
         "name": "Cold-summer Mediterranean climate",
         "offsetgroup": "Cold-summer Mediterranean climate",
         "orientation": "h",
         "showlegend": true,
         "textposition": "auto",
         "type": "bar",
         "x": [
          1.8646711841271388
         ],
         "xaxis": "x",
         "y": [
          " "
         ],
         "yaxis": "y"
        }
       ],
       "layout": {
        "barmode": "relative",
        "height": 200,
        "legend": {
         "title": {
          "text": "label"
         },
         "tracegroupgap": 0
        },
        "margin": {
         "t": 60
        },
        "showlegend": false,
        "template": {
         "data": {
          "candlestick": [
           {
            "decreasing": {
             "line": {
              "color": "#000033"
             }
            },
            "increasing": {
             "line": {
              "color": "#000032"
             }
            },
            "type": "candlestick"
           }
          ],
          "contour": [
           {
            "colorscale": [
             [
              0,
              "#000011"
             ],
             [
              0.1111111111111111,
              "#000012"
             ],
             [
              0.2222222222222222,
              "#000013"
             ],
             [
              0.3333333333333333,
              "#000014"
             ],
             [
              0.4444444444444444,
              "#000015"
             ],
             [
              0.5555555555555556,
              "#000016"
             ],
             [
              0.6666666666666666,
              "#000017"
             ],
             [
              0.7777777777777778,
              "#000018"
             ],
             [
              0.8888888888888888,
              "#000019"
             ],
             [
              1,
              "#000020"
             ]
            ],
            "type": "contour"
           }
          ],
          "contourcarpet": [
           {
            "colorscale": [
             [
              0,
              "#000011"
             ],
             [
              0.1111111111111111,
              "#000012"
             ],
             [
              0.2222222222222222,
              "#000013"
             ],
             [
              0.3333333333333333,
              "#000014"
             ],
             [
              0.4444444444444444,
              "#000015"
             ],
             [
              0.5555555555555556,
              "#000016"
             ],
             [
              0.6666666666666666,
              "#000017"
             ],
             [
              0.7777777777777778,
              "#000018"
             ],
             [
              0.8888888888888888,
              "#000019"
             ],
             [
              1,
              "#000020"
             ]
            ],
            "type": "contourcarpet"
           }
          ],
          "heatmap": [
           {
            "colorscale": [
             [
              0,
              "#000011"
             ],
             [
              0.1111111111111111,
              "#000012"
             ],
             [
              0.2222222222222222,
              "#000013"
             ],
             [
              0.3333333333333333,
              "#000014"
             ],
             [
              0.4444444444444444,
              "#000015"
             ],
             [
              0.5555555555555556,
              "#000016"
             ],
             [
              0.6666666666666666,
              "#000017"
             ],
             [
              0.7777777777777778,
              "#000018"
             ],
             [
              0.8888888888888888,
              "#000019"
             ],
             [
              1,
              "#000020"
             ]
            ],
            "type": "heatmap"
           }
          ],
          "histogram2d": [
           {
            "colorscale": [
             [
              0,
              "#000011"
             ],
             [
              0.1111111111111111,
              "#000012"
             ],
             [
              0.2222222222222222,
              "#000013"
             ],
             [
              0.3333333333333333,
              "#000014"
             ],
             [
              0.4444444444444444,
              "#000015"
             ],
             [
              0.5555555555555556,
              "#000016"
             ],
             [
              0.6666666666666666,
              "#000017"
             ],
             [
              0.7777777777777778,
              "#000018"
             ],
             [
              0.8888888888888888,
              "#000019"
             ],
             [
              1,
              "#000020"
             ]
            ],
            "type": "histogram2d"
           }
          ],
          "icicle": [
           {
            "textfont": {
             "color": "white"
            },
            "type": "icicle"
           }
          ],
          "sankey": [
           {
            "textfont": {
             "color": "#000036"
            },
            "type": "sankey"
           }
          ],
          "scatter": [
           {
            "marker": {
             "line": {
              "width": 0
             }
            },
            "type": "scatter"
           }
          ],
          "table": [
           {
            "cells": {
             "fill": {
              "color": "#000038"
             },
             "font": {
              "color": "#000037"
             },
             "line": {
              "color": "#000039"
             }
            },
            "header": {
             "fill": {
              "color": "#000040"
             },
             "font": {
              "color": "#000036"
             },
             "line": {
              "color": "#000039"
             }
            },
            "type": "table"
           }
          ],
          "waterfall": [
           {
            "connector": {
             "line": {
              "color": "#000036",
              "width": 2
             }
            },
            "decreasing": {
             "marker": {
              "color": "#000033"
             }
            },
            "increasing": {
             "marker": {
              "color": "#000032"
             }
            },
            "totals": {
             "marker": {
              "color": "#000034"
             }
            },
            "type": "waterfall"
           }
          ]
         },
         "layout": {
          "coloraxis": {
           "colorscale": [
            [
             0,
             "#000011"
            ],
            [
             0.1111111111111111,
             "#000012"
            ],
            [
             0.2222222222222222,
             "#000013"
            ],
            [
             0.3333333333333333,
             "#000014"
            ],
            [
             0.4444444444444444,
             "#000015"
            ],
            [
             0.5555555555555556,
             "#000016"
            ],
            [
             0.6666666666666666,
             "#000017"
            ],
            [
             0.7777777777777778,
             "#000018"
            ],
            [
             0.8888888888888888,
             "#000019"
            ],
            [
             1,
             "#000020"
            ]
           ]
          },
          "colorscale": {
           "diverging": [
            [
             0,
             "#000021"
            ],
            [
             0.1,
             "#000022"
            ],
            [
             0.2,
             "#000023"
            ],
            [
             0.3,
             "#000024"
            ],
            [
             0.4,
             "#000025"
            ],
            [
             0.5,
             "#000026"
            ],
            [
             0.6,
             "#000027"
            ],
            [
             0.7,
             "#000028"
            ],
            [
             0.8,
             "#000029"
            ],
            [
             0.9,
             "#000030"
            ],
            [
             1,
             "#000031"
            ]
           ],
           "sequential": [
            [
             0,
             "#000011"
            ],
            [
             0.1111111111111111,
             "#000012"
            ],
            [
             0.2222222222222222,
             "#000013"
            ],
            [
             0.3333333333333333,
             "#000014"
            ],
            [
             0.4444444444444444,
             "#000015"
            ],
            [
             0.5555555555555556,
             "#000016"
            ],
            [
             0.6666666666666666,
             "#000017"
            ],
            [
             0.7777777777777778,
             "#000018"
            ],
            [
             0.8888888888888888,
             "#000019"
            ],
            [
             1,
             "#000020"
            ]
           ],
           "sequentialminus": [
            [
             0,
             "#000011"
            ],
            [
             0.1111111111111111,
             "#000012"
            ],
            [
             0.2222222222222222,
             "#000013"
            ],
            [
             0.3333333333333333,
             "#000014"
            ],
            [
             0.4444444444444444,
             "#000015"
            ],
            [
             0.5555555555555556,
             "#000016"
            ],
            [
             0.6666666666666666,
             "#000017"
            ],
            [
             0.7777777777777778,
             "#000018"
            ],
            [
             0.8888888888888888,
             "#000019"
            ],
            [
             1,
             "#000020"
            ]
           ]
          },
          "colorway": [
           "#000001",
           "#000002",
           "#000003",
           "#000004",
           "#000005",
           "#000006",
           "#000007",
           "#000008",
           "#000009",
           "#000010"
          ]
         }
        },
        "title": {
         "text": "Summary Metrics"
        },
        "width": 800,
        "xaxis": {
         "anchor": "y",
         "domain": [
          0,
          1
         ],
         "showticklabels": false
        },
        "yaxis": {
         "anchor": "x",
         "domain": [
          0,
          1
         ]
        }
       }
      },
      "text/html": [
       "<div>                            <div id=\"34047690-9cc4-4b32-888a-58976967bcf8\" class=\"plotly-graph-div\" style=\"height:200px; width:800px;\"></div>            <script type=\"text/javascript\">                require([\"plotly\"], function(Plotly) {                    window.PLOTLYENV=window.PLOTLYENV || {};                                    if (document.getElementById(\"34047690-9cc4-4b32-888a-58976967bcf8\")) {                    Plotly.newPlot(                        \"34047690-9cc4-4b32-888a-58976967bcf8\",                        [{\"alignmentgroup\":\"True\",\"customdata\":[[\"Hot semi-arid climate\"]],\"hovertemplate\":\"label=%{customdata[0]}<br>value=%{x:,.2f}<extra></extra>\",\"legendgroup\":\"Hot semi-arid climate\",\"marker\":{\"color\":\"#CC8D14\",\"pattern\":{\"shape\":\"\"}},\"name\":\"Hot semi-arid climate\",\"offsetgroup\":\"Hot semi-arid climate\",\"orientation\":\"h\",\"showlegend\":true,\"textposition\":\"auto\",\"x\":[27.538634036952182],\"xaxis\":\"x\",\"y\":[\" \"],\"yaxis\":\"y\",\"type\":\"bar\"},{\"alignmentgroup\":\"True\",\"customdata\":[[\"Cold semi-arid climate\"]],\"hovertemplate\":\"label=%{customdata[0]}<br>value=%{x:,.2f}<extra></extra>\",\"legendgroup\":\"Cold semi-arid climate\",\"marker\":{\"color\":\"#CCAA54\",\"pattern\":{\"shape\":\"\"}},\"name\":\"Cold semi-arid climate\",\"offsetgroup\":\"Cold semi-arid climate\",\"orientation\":\"h\",\"showlegend\":true,\"textposition\":\"auto\",\"x\":[32.41359138107542],\"xaxis\":\"x\",\"y\":[\" \"],\"yaxis\":\"y\",\"type\":\"bar\"},{\"alignmentgroup\":\"True\",\"customdata\":[[\"Hot desert climate\"]],\"hovertemplate\":\"label=%{customdata[0]}<br>value=%{x:,.2f}<extra></extra>\",\"legendgroup\":\"Hot desert climate\",\"marker\":{\"color\":\"#FFCC00\",\"pattern\":{\"shape\":\"\"}},\"name\":\"Hot desert climate\",\"offsetgroup\":\"Hot desert climate\",\"orientation\":\"h\",\"showlegend\":true,\"textposition\":\"auto\",\"x\":[2.1742309754789644],\"xaxis\":\"x\",\"y\":[\" \"],\"yaxis\":\"y\",\"type\":\"bar\"},{\"alignmentgroup\":\"True\",\"customdata\":[[\"Warm-summer Mediterranean climate\"]],\"hovertemplate\":\"label=%{customdata[0]}<br>value=%{x:,.2f}<extra></extra>\",\"legendgroup\":\"Warm-summer Mediterranean climate\",\"marker\":{\"color\":\"#00D700\",\"pattern\":{\"shape\":\"\"}},\"name\":\"Warm-summer Mediterranean climate\",\"offsetgroup\":\"Warm-summer Mediterranean climate\",\"orientation\":\"h\",\"showlegend\":true,\"textposition\":\"auto\",\"x\":[36.00887242236631],\"xaxis\":\"x\",\"y\":[\" \"],\"yaxis\":\"y\",\"type\":\"bar\"},{\"alignmentgroup\":\"True\",\"customdata\":[[\"Cold-summer Mediterranean climate\"]],\"hovertemplate\":\"label=%{customdata[0]}<br>value=%{x:,.2f}<extra></extra>\",\"legendgroup\":\"Cold-summer Mediterranean climate\",\"marker\":{\"color\":\"#00AA00\",\"pattern\":{\"shape\":\"\"}},\"name\":\"Cold-summer Mediterranean climate\",\"offsetgroup\":\"Cold-summer Mediterranean climate\",\"orientation\":\"h\",\"showlegend\":true,\"textposition\":\"auto\",\"x\":[1.8646711841271388],\"xaxis\":\"x\",\"y\":[\" \"],\"yaxis\":\"y\",\"type\":\"bar\"}],                        {\"barmode\":\"relative\",\"height\":200,\"legend\":{\"title\":{\"text\":\"label\"},\"tracegroupgap\":0},\"margin\":{\"t\":60},\"showlegend\":false,\"template\":{\"data\":{\"candlestick\":[{\"decreasing\":{\"line\":{\"color\":\"#000033\"}},\"increasing\":{\"line\":{\"color\":\"#000032\"}},\"type\":\"candlestick\"}],\"contourcarpet\":[{\"colorscale\":[[0.0,\"#000011\"],[0.1111111111111111,\"#000012\"],[0.2222222222222222,\"#000013\"],[0.3333333333333333,\"#000014\"],[0.4444444444444444,\"#000015\"],[0.5555555555555556,\"#000016\"],[0.6666666666666666,\"#000017\"],[0.7777777777777778,\"#000018\"],[0.8888888888888888,\"#000019\"],[1.0,\"#000020\"]],\"type\":\"contourcarpet\"}],\"contour\":[{\"colorscale\":[[0.0,\"#000011\"],[0.1111111111111111,\"#000012\"],[0.2222222222222222,\"#000013\"],[0.3333333333333333,\"#000014\"],[0.4444444444444444,\"#000015\"],[0.5555555555555556,\"#000016\"],[0.6666666666666666,\"#000017\"],[0.7777777777777778,\"#000018\"],[0.8888888888888888,\"#000019\"],[1.0,\"#000020\"]],\"type\":\"contour\"}],\"heatmap\":[{\"colorscale\":[[0.0,\"#000011\"],[0.1111111111111111,\"#000012\"],[0.2222222222222222,\"#000013\"],[0.3333333333333333,\"#000014\"],[0.4444444444444444,\"#000015\"],[0.5555555555555556,\"#000016\"],[0.6666666666666666,\"#000017\"],[0.7777777777777778,\"#000018\"],[0.8888888888888888,\"#000019\"],[1.0,\"#000020\"]],\"type\":\"heatmap\"}],\"histogram2d\":[{\"colorscale\":[[0.0,\"#000011\"],[0.1111111111111111,\"#000012\"],[0.2222222222222222,\"#000013\"],[0.3333333333333333,\"#000014\"],[0.4444444444444444,\"#000015\"],[0.5555555555555556,\"#000016\"],[0.6666666666666666,\"#000017\"],[0.7777777777777778,\"#000018\"],[0.8888888888888888,\"#000019\"],[1.0,\"#000020\"]],\"type\":\"histogram2d\"}],\"icicle\":[{\"textfont\":{\"color\":\"white\"},\"type\":\"icicle\"}],\"sankey\":[{\"textfont\":{\"color\":\"#000036\"},\"type\":\"sankey\"}],\"scatter\":[{\"marker\":{\"line\":{\"width\":0}},\"type\":\"scatter\"}],\"table\":[{\"cells\":{\"fill\":{\"color\":\"#000038\"},\"font\":{\"color\":\"#000037\"},\"line\":{\"color\":\"#000039\"}},\"header\":{\"fill\":{\"color\":\"#000040\"},\"font\":{\"color\":\"#000036\"},\"line\":{\"color\":\"#000039\"}},\"type\":\"table\"}],\"waterfall\":[{\"connector\":{\"line\":{\"color\":\"#000036\",\"width\":2}},\"decreasing\":{\"marker\":{\"color\":\"#000033\"}},\"increasing\":{\"marker\":{\"color\":\"#000032\"}},\"totals\":{\"marker\":{\"color\":\"#000034\"}},\"type\":\"waterfall\"}]},\"layout\":{\"coloraxis\":{\"colorscale\":[[0.0,\"#000011\"],[0.1111111111111111,\"#000012\"],[0.2222222222222222,\"#000013\"],[0.3333333333333333,\"#000014\"],[0.4444444444444444,\"#000015\"],[0.5555555555555556,\"#000016\"],[0.6666666666666666,\"#000017\"],[0.7777777777777778,\"#000018\"],[0.8888888888888888,\"#000019\"],[1.0,\"#000020\"]]},\"colorscale\":{\"diverging\":[[0.0,\"#000021\"],[0.1,\"#000022\"],[0.2,\"#000023\"],[0.3,\"#000024\"],[0.4,\"#000025\"],[0.5,\"#000026\"],[0.6,\"#000027\"],[0.7,\"#000028\"],[0.8,\"#000029\"],[0.9,\"#000030\"],[1.0,\"#000031\"]],\"sequential\":[[0.0,\"#000011\"],[0.1111111111111111,\"#000012\"],[0.2222222222222222,\"#000013\"],[0.3333333333333333,\"#000014\"],[0.4444444444444444,\"#000015\"],[0.5555555555555556,\"#000016\"],[0.6666666666666666,\"#000017\"],[0.7777777777777778,\"#000018\"],[0.8888888888888888,\"#000019\"],[1.0,\"#000020\"]],\"sequentialminus\":[[0.0,\"#000011\"],[0.1111111111111111,\"#000012\"],[0.2222222222222222,\"#000013\"],[0.3333333333333333,\"#000014\"],[0.4444444444444444,\"#000015\"],[0.5555555555555556,\"#000016\"],[0.6666666666666666,\"#000017\"],[0.7777777777777778,\"#000018\"],[0.8888888888888888,\"#000019\"],[1.0,\"#000020\"]]},\"colorway\":[\"#000001\",\"#000002\",\"#000003\",\"#000004\",\"#000005\",\"#000006\",\"#000007\",\"#000008\",\"#000009\",\"#000010\"]}},\"title\":{\"text\":\"Summary Metrics\"},\"width\":800,\"xaxis\":{\"anchor\":\"y\",\"domain\":[0.0,1.0],\"showticklabels\":false},\"yaxis\":{\"anchor\":\"x\",\"domain\":[0.0,1.0]}},                        {\"responsive\": true}                    ).then(function(){\n",
       "                            \n",
       "var gd = document.getElementById('34047690-9cc4-4b32-888a-58976967bcf8');\n",
       "var x = new MutationObserver(function (mutations, observer) {{\n",
       "        var display = window.getComputedStyle(gd).display;\n",
       "        if (!display || display === 'none') {{\n",
       "            console.log([gd, 'removed!']);\n",
       "            Plotly.purge(gd);\n",
       "            observer.disconnect();\n",
       "        }}\n",
       "}});\n",
       "\n",
       "// Listen for the removal of the full notebook cells\n",
       "var notebookContainer = gd.closest('#notebook-container');\n",
       "if (notebookContainer) {{\n",
       "    x.observe(notebookContainer, {childList: true});\n",
       "}}\n",
       "\n",
       "// Listen for the clearing of the current output cell\n",
       "var outputEl = gd.closest('.output');\n",
       "if (outputEl) {{\n",
       "    x.observe(outputEl, {childList: true});\n",
       "}}\n",
       "\n",
       "                        })                };                });            </script>        </div>"
      ]
     },
     "metadata": {},
     "output_type": "display_data"
    }
   ],
   "source": [
    "# Display the plotly figure object in the notebook\n",
    "# Set notebook mode to work in offline\n",
    "pyo.init_notebook_mode()\n",
    "for dataset, fig in figs.items():\n",
    "    pyo.iplot(fig)"
   ]
  },
  {
   "cell_type": "markdown",
   "metadata": {},
   "source": [
    "### Geocoder\n",
    "Get the address of the region's centroid"
   ]
  },
  {
   "cell_type": "code",
   "execution_count": 47,
   "metadata": {},
   "outputs": [
    {
     "name": "stdout",
     "output_type": "stream",
     "text": [
      "Region:  Santa Cruz de Tenerife, Canary Islands\n",
      "Country:  Spain\n"
     ]
    }
   ],
   "source": [
    "# Geocoder\n",
    "bbox = _get_bbox(geojson=geojson)\n",
    "\n",
    "# create Geocoder object\n",
    "geolocator = Geocoder(user_agent=\"my-app\")\n",
    "\n",
    "# reverse geocode center point of box to get region and country\n",
    "center_point = bbox.centroid\n",
    "region, country = geolocator.reverse_geocode(center_point)\n",
    "\n",
    "print(\"Region: \", region)\n",
    "print(\"Country: \", country)"
   ]
  },
  {
   "cell_type": "markdown",
   "metadata": {},
   "source": [
    "### Geodescribe the region with OpenAI API"
   ]
  },
  {
   "cell_type": "code",
   "execution_count": 48,
   "metadata": {},
   "outputs": [],
   "source": [
    "# Geodescribe the region with OpenAI API\n",
    "geo_describer = GeoDescriber(model_name=\"text-davinci-003\")\n",
    "description = geo_describer.generate_description(\n",
    "    land_cover_per=top['Global-Land-Cover'],\n",
    "    climate_per=top['Koppen-Geiger-Climate'],\n",
    "    region_name=region,\n",
    "    country=country\n",
    ")"
   ]
  },
  {
   "cell_type": "code",
   "execution_count": 49,
   "metadata": {
    "scrolled": true
   },
   "outputs": [
    {
     "data": {
      "text/markdown": [
       "\n",
       "## Description of the region: \n",
       "\n",
       "The Santa Cruz de Tenerife region has a warm-summer Mediterranean climate, with hot and dry summers, mild winters and low precipitation overall. The landscape is dominated by water bodies such as the ocean, estuaries, and lagoons. The rest of the region includes grasslands, bare areas, as well as some cover from evergreen trees and a mix of natural and crop vegetation. The socioeconomics of this region are largely focused around the tourism industry, as the warm and pleasant climate makes it an attractive and popular destination. Additionally, fishing and agricultural activities take place in the region, making it a hub for food production.\n"
      ],
      "text/plain": [
       "<IPython.core.display.Markdown object>"
      ]
     },
     "metadata": {},
     "output_type": "display_data"
    }
   ],
   "source": [
    "from IPython.display import Markdown, display\n",
    "\n",
    "\n",
    "display(Markdown(f\"\"\"\n",
    "## Description of the region: \n",
    "\n",
    "{description}\n",
    "\"\"\"))"
   ]
  },
  {
   "cell_type": "markdown",
   "metadata": {},
   "source": [
    "### Get features of interest with OpenStreetMap's Overpass API."
   ]
  },
  {
   "cell_type": "code",
   "execution_count": 36,
   "metadata": {},
   "outputs": [
    {
     "data": {
      "text/plain": [
       "[-16.97428464346484, 27.98588368113657, -16.10106160818097, 28.595180785691795]"
      ]
     },
     "execution_count": 36,
     "metadata": {},
     "output_type": "execute_result"
    }
   ],
   "source": [
    "list(bbox.bounds)"
   ]
  },
  {
   "cell_type": "code",
   "execution_count": 39,
   "metadata": {},
   "outputs": [],
   "source": [
    "bounds = list(bbox.bounds)\n",
    "bounds = [bounds[1], bounds[0], bounds[3], bounds[2]]\n",
    "s = \",\".join(str(x) for x in bounds)"
   ]
  },
  {
   "cell_type": "code",
   "execution_count": 41,
   "metadata": {},
   "outputs": [
    {
     "name": "stdout",
     "output_type": "stream",
     "text": [
      "Node: Santa Cruz de Tenerife (28.469648, -16.254088)\n",
      "Node: La Orotava (28.389883, -16.523569)\n",
      "Node: Puerto de la Cruz (28.415902, -16.553296)\n",
      "Node: Los Cristianos (28.052630, -16.717000)\n",
      "Node: Guía de Isora (28.210137, -16.778727)\n",
      "Node: Adeje (28.121942, -16.724189)\n",
      "Node: Granadilla de Abona (28.122141, -16.576673)\n",
      "Node: San Miguel de Abona (28.099205, -16.616791)\n",
      "Node: Icod de los Vinos (28.368055, -16.717639)\n",
      "Node: Tegueste (28.523261, -16.340764)\n",
      "Node: Arona (28.099625, -16.680910)\n",
      "Node: Buenavista del Norte (28.372118, -16.851256)\n",
      "Node: Candelaria (28.354671, -16.371009)\n",
      "Node: Santa Úrsula (28.425309, -16.491739)\n",
      "Node: La Victoria de Acentejo (28.434786, -16.468175)\n",
      "Node: Tacoronte (28.480532, -16.413760)\n",
      "Node: Güímar (28.315019, -16.409950)\n",
      "Node: Taco (28.446755, -16.299781)\n",
      "Node: La Cuesta (28.468472, -16.289307)\n",
      "Node: San Cristóbal de La Laguna (28.485771, -16.315942)\n",
      "Node: La Matanza de Acentejo (28.450513, -16.452316)\n",
      "Node: Realejo Alto (28.381474, -16.583850)\n",
      "Relation: Zona Exclusion del Monte de Aguirre\n",
      "Relation: Reserva Natural Especial de Montaña Roja\n",
      "Relation: Monumento Natural de la Montaña Pelada\n",
      "Relation: Monumento Natural de las Montañas de Ifara y Los Riscos\n",
      "Relation: Monumento Natural de los Derriscaderos\n",
      "Relation: Monumento Natural de Montaña Amarilla\n",
      "Relation: Monumento Natural de la Montaña Centinela\n",
      "Relation: Sitio de Interés Científico del Acantilado de la Hondura\n",
      "Relation: Sitio de Interés Científico del Tabaibal del Porís\n",
      "Relation: Sitio de Interés Científico de Interián\n",
      "Relation: Paisaje Protegido de los Acantilados de la Culata\n",
      "Relation: Reserva Natural Especial del Malpaís de la Rasca\n",
      "Relation: Monumento Natural de la Montaña de Guaza\n",
      "Relation: Monumento Natural de la Caldera del Rey\n",
      "Relation: Monumento Natural del Roque de Jama\n",
      "Relation: Monumento Natural de la Montaña de Tejina\n",
      "Relation: Paisaje Protegido del Barranco de Erques\n",
      "Relation: Sitio de Interés Científico de los Acantilados de Isorana\n",
      "Relation: Parque Rural de Teno\n",
      "Relation: Reserva Natural Especial del Barranco del Infierno\n",
      "Relation: Parque Rural de Anaga\n",
      "Relation: Monumento Natural del Roque de Garachico\n",
      "Relation: Reserva Natural Integral de los Roques de Anaga\n",
      "Relation: Reserva Natural Especial del Malpaís de Güímar\n",
      "Relation: Monumento Natural de la Montaña Colorada\n",
      "Relation: Paisaje Protegido de Ifonche\n",
      "Relation: Reserva Natural Especial del Chinyero\n",
      "Relation: Paisaje Protegido de la Resbala\n",
      "Relation: Reserva Natural Integral de Pinoleris\n",
      "Relation: Paisaje Protegido de la Rambla de Castro\n",
      "Relation: Sitio de Interés Científico del Barranco de Ruiz\n",
      "Relation: Sitio de Interés Científico de La Caleta\n",
      "Relation: Reserva Natural Integral de Ijuana\n",
      "Relation: Reserva Natural Integral del Pijaral\n",
      "Relation: Reserva Natural Especial de las Palomas\n",
      "Relation: Monumento Natural del Barranco de Fasnia y Güímar\n",
      "Relation: Monumento Natural de la Montaña de los Frailes\n",
      "Relation: Paisaje Protegido de Las Lagunetas\n",
      "Relation: Paisaje Protegido de los Campeches, Tigaiga y Ruiz\n",
      "Relation: Paisaje Protegido de Costa de Acentejo\n",
      "Relation: Paisaje Protegido de las Siete Lomas\n",
      "Relation: Parque Natural de Corona Forestal\n",
      "Relation: Parque Nacional del Teide\n"
     ]
    }
   ],
   "source": [
    "# create Overpass API query\n",
    "api = overpy.Overpass()\n",
    "\n",
    "# define bbox coordinates\n",
    "#bbox = \"27.98,-16.97,28.59,-16.10\"\n",
    "bbox = s\n",
    "\n",
    "# define query\n",
    "query = \"\"\"\n",
    "    [out:json];\n",
    "    (\n",
    "      node[\"place\"=\"city\"]({bbox});\n",
    "      node[\"place\"=\"town\"]({bbox});\n",
    "      relation[\"leisure\"=\"nature_reserve\"]({bbox});\n",
    "    );\n",
    "    out center;\n",
    "\"\"\".format(bbox=bbox)\n",
    "\n",
    "# execute query and get results\n",
    "result = api.query(query)\n",
    "\n",
    "# print nodes, ways, and relations\n",
    "for node in result.nodes:\n",
    "    print(\"Node: %s (%f, %f)\" % (node.tags.get(\"name\", \"n/a\"), node.lat, node.lon))\n",
    "\n",
    "for way in result.ways:\n",
    "    print(\"Way: %s (%f, %f)\" % (way.tags.get(\"name\", \"n/a\"), way.center_lat, way.center_lon))\n",
    "\n",
    "for relation in result.relations:\n",
    "    print(\"Relation: %s\" % (relation.tags.get(\"name\", \"n/a\")))"
   ]
  },
  {
   "cell_type": "code",
   "execution_count": 42,
   "metadata": {},
   "outputs": [
    {
     "data": {
      "text/plain": [
       "<overpy.Result at 0x7efde3add300>"
      ]
     },
     "execution_count": 42,
     "metadata": {},
     "output_type": "execute_result"
    }
   ],
   "source": [
    "result"
   ]
  },
  {
   "cell_type": "code",
   "execution_count": 43,
   "metadata": {},
   "outputs": [
    {
     "data": {
      "text/plain": [
       "{'capital': '4',\n",
       " 'name': 'Santa Cruz de Tenerife',\n",
       " 'name:ar': 'سانتا كروث دي تينيريفه',\n",
       " 'name:es': 'Santa Cruz de Tenerife',\n",
       " 'name:fr': 'Santa Cruz de Ténérife',\n",
       " 'name:ja': 'サンタ・クルス・デ・テネリフェ',\n",
       " 'name:ko': '산타크루스데테네리페',\n",
       " 'name:lt': 'Tenerifės Santa Krusas',\n",
       " 'name:ru': 'Санта-Крус-де-Тенерифе',\n",
       " 'name:short': 'Santa Cruz',\n",
       " 'name:zh': '圣克鲁斯-德特内里费',\n",
       " 'place': 'city',\n",
       " 'population': '147140',\n",
       " 'population:date': '2022',\n",
       " 'ref:ine': '38038002501',\n",
       " 'source': 'Instituto Geográfico Nacional',\n",
       " 'source:date': '2011-06',\n",
       " 'source:name': 'Nomenclátor Geográfico de Municipios y Entidades de Población',\n",
       " 'wikidata': 'Q14328',\n",
       " 'wikimedia_commons': 'Category:Santa Cruz de Tenerife',\n",
       " 'wikipedia': 'es:Santa Cruz de Tenerife'}"
      ]
     },
     "execution_count": 43,
     "metadata": {},
     "output_type": "execute_result"
    }
   ],
   "source": [
    "result.nodes[0].tags"
   ]
  },
  {
   "cell_type": "code",
   "execution_count": null,
   "metadata": {},
   "outputs": [],
   "source": []
  }
 ],
 "metadata": {
  "kernelspec": {
   "display_name": "Python 3 (ipykernel)",
   "language": "python",
   "name": "python3"
  },
  "language_info": {
   "codemirror_mode": {
    "name": "ipython",
    "version": 3
   },
   "file_extension": ".py",
   "mimetype": "text/x-python",
   "name": "python",
   "nbconvert_exporter": "python",
   "pygments_lexer": "ipython3",
   "version": "3.10.11"
  }
 },
 "nbformat": 4,
 "nbformat_minor": 4
}
