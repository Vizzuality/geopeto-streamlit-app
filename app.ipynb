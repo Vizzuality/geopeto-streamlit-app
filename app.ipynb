{
 "cells": [
  {
   "cell_type": "markdown",
   "metadata": {},
   "source": [
    "# Map to analyse Global Land Cover!"
   ]
  },
  {
   "cell_type": "code",
   "execution_count": 3,
   "metadata": {},
   "outputs": [],
   "source": [
    "import os\n",
    "import json\n",
    "\n",
    "import ee\n",
    "import plotly.offline as pyo\n",
    "from shapely.geometry import Polygon, box\n",
    "\n",
    "from streamlit_map.geocoder import Geocoder\n",
    "from streamlit_map.geodescriber import GeoDescriber\n",
    "from streamlit_map.visualize import MapGEE, create_stacked_bar\n",
    "from streamlit_map.processing import ZonalStatistics\n",
    "from streamlit_map.data import GEEData"
   ]
  },
  {
   "cell_type": "code",
   "execution_count": 2,
   "metadata": {},
   "outputs": [],
   "source": [
    "def _get_bbox(geojson: dict) -> box:\n",
    "    # Create a Shapely polygon from the coordinates\n",
    "    poly = Polygon(geojson['geometry']['coordinates'][0])\n",
    "    # Get the bbox coordinates using the bounds() method\n",
    "    min_x, min_y, max_x, max_y = poly.bounds\n",
    "    # Create the box object using the box() function\n",
    "    shapely_box = box(min_x, min_y, max_x, max_y)\n",
    "\n",
    "    return shapely_box"
   ]
  },
  {
   "cell_type": "code",
   "execution_count": 8,
   "metadata": {},
   "outputs": [],
   "source": [
    "private_key = json.loads(os.getenv(\"EE_PRIVATE_KEY\"))\n",
    "ee_credentials  = ee.ServiceAccountCredentials(email=private_key['client_email'], key_data=os.getenv(\"EE_PRIVATE_KEY\"))"
   ]
  },
  {
   "cell_type": "code",
   "execution_count": 9,
   "metadata": {},
   "outputs": [],
   "source": [
    "ee.Initialize(credentials=ee_credentials)"
   ]
  },
  {
   "cell_type": "code",
   "execution_count": 6,
   "metadata": {},
   "outputs": [],
   "source": [
    "MAX_ALLOWED_AREA_SIZE = 25.0"
   ]
  },
  {
   "cell_type": "code",
   "execution_count": 7,
   "metadata": {},
   "outputs": [],
   "source": [
    "datasets = {}\n",
    "for dataset in ['Global-Land-Cover', 'Koppen-Geiger-Climate']:\n",
    "    datasets[dataset] = GEEData(dataset)\n",
    "    \n",
    "gee_data = datasets['Global-Land-Cover']"
   ]
  },
  {
   "cell_type": "code",
   "execution_count": 8,
   "metadata": {
    "scrolled": false
   },
   "outputs": [
    {
     "name": "stdout",
     "output_type": "stream",
     "text": [
      "Draw a rectangle on map to select and area.\n"
     ]
    },
    {
     "data": {
      "application/vnd.jupyter.widget-view+json": {
       "model_id": "be0cc11e5b7f4f99bd445549db90e58b",
       "version_major": 2,
       "version_minor": 0
      },
      "text/plain": [
       "MapGEE(center=[25.0, 55.0], controls=(ZoomControl(options=['position', 'zoom_in_text', 'zoom_in_title', 'zoom_…"
      ]
     },
     "metadata": {},
     "output_type": "display_data"
    }
   ],
   "source": [
    "m = MapGEE()\n",
    "\n",
    "for dataset, data in datasets.items():\n",
    "    m.add_gee_layer(\n",
    "        image=data.ee_image(),\n",
    "        sld_interval=data.sld_interval(),\n",
    "        name=dataset\n",
    "    )\n",
    "m"
   ]
  },
  {
   "cell_type": "code",
   "execution_count": 9,
   "metadata": {
    "scrolled": true
   },
   "outputs": [],
   "source": [
    "geojson = m.geometry['features']\n",
    "top = {}\n",
    "figs = {}\n",
    "for dataset, data in datasets.items():\n",
    "    zs = ZonalStatistics(data, MAX_ALLOWED_AREA_SIZE)\n",
    "\n",
    "    # Call the zs.check_area_and_compute function to get the plotly figure\n",
    "    stats = zs.check_area_and_compute(geojson=geojson)\n",
    "\n",
    "    # sort the items from top to bottom and take the top 8 elements\n",
    "    top_8 = sorted(stats.items(), key=lambda x: x[1], reverse=True)[:8]\n",
    "    top_8 = {k: v for k, v in top_8}\n",
    "\n",
    "    top[dataset] = top_8\n",
    "    \n",
    "    # Plot figure\n",
    "    colors = {data.class_names()[key]: item for key, item in\n",
    "              data.class_colors().items()}\n",
    "\n",
    "    fig = create_stacked_bar(values=stats, colors=colors)\n",
    "    \n",
    "    figs[dataset] = fig"
   ]
  },
  {
   "cell_type": "code",
   "execution_count": 9,
   "metadata": {},
   "outputs": [],
   "source": [
    "# Display the plotly figure object in the notebook\n",
    "# Set notebook mode to work in offline\n",
    "pyo.init_notebook_mode()\n",
    "pyo.iplot(figs['Global-Land-Cover'])"
   ]
  },
  {
   "cell_type": "code",
   "execution_count": 8,
   "metadata": {},
   "outputs": [
    {
     "name": "stdout",
     "output_type": "stream",
     "text": [
      "Region:  Sidama\n",
      "Country:  Ethiopia\n"
     ]
    }
   ],
   "source": [
    "# Geocoder\n",
    "bbox = _get_bbox(geojson=geojson)\n",
    "\n",
    "# create Geocoder object\n",
    "geolocator = Geocoder(user_agent=\"my-app\")\n",
    "\n",
    "# reverse geocode center point of box to get region and country\n",
    "center_point = bbox.centroid\n",
    "region, country = geolocator.reverse_geocode(center_point)\n",
    "\n",
    "print(\"Region: \", region)\n",
    "print(\"Country: \", country)"
   ]
  },
  {
   "cell_type": "code",
   "execution_count": 9,
   "metadata": {},
   "outputs": [],
   "source": [
    "# Geodescribe the region with OpenAI API\n",
    "geo_describer = GeoDescriber(model_name=\"text-davinci-003\")\n",
    "description = geo_describer.generate_description(\n",
    "    land_cover_per=top['Global-Land-Cover'],\n",
    "    climate_per=top['Koppen-Geiger-Climate'],\n",
    "    region_name=region,\n",
    "    country=country\n",
    ")"
   ]
  },
  {
   "cell_type": "code",
   "execution_count": 10,
   "metadata": {
    "scrolled": true
   },
   "outputs": [
    {
     "data": {
      "text/markdown": [
       "\n",
       "## Description of the region: \n",
       "\n",
       "The climate in Sidama is most characterized by temperate oceanic and subtropical highland climates which have mild temperatures, high humidity and moderate rainfall throughout the year. The land cover is mostly characterized by cropland, rainfed with significant tree cover in both deciduous and evergreen varieties. Shrubland is also found in the area. The landscape is mainly agricultural with some natural vegetation and water bodies.\n",
       "\n",
       "The socioeconomic situation in the region is likely quite dependent on the agricultural industry. The population likely depends on subsistence farming and the production of staple crops like cereals, grains and pulses to support the local economy. The region is likely to be impoverished as agricultural yields are heavily impacted by weather patterns, not to mention lack of infrastructure and access to markets for trading produce.\n"
      ],
      "text/plain": [
       "<IPython.core.display.Markdown object>"
      ]
     },
     "metadata": {},
     "output_type": "display_data"
    }
   ],
   "source": [
    "from IPython.display import Markdown, display\n",
    "\n",
    "\n",
    "display(Markdown(f\"\"\"\n",
    "## Description of the region: \n",
    "\n",
    "{description}\n",
    "\"\"\"))"
   ]
  },
  {
   "cell_type": "code",
   "execution_count": null,
   "metadata": {},
   "outputs": [],
   "source": []
  }
 ],
 "metadata": {
  "kernelspec": {
   "display_name": "Python 3 (ipykernel)",
   "language": "python",
   "name": "python3"
  },
  "language_info": {
   "codemirror_mode": {
    "name": "ipython",
    "version": 3
   },
   "file_extension": ".py",
   "mimetype": "text/x-python",
   "name": "python",
   "nbconvert_exporter": "python",
   "pygments_lexer": "ipython3",
   "version": "3.10.11"
  }
 },
 "nbformat": 4,
 "nbformat_minor": 4
}
